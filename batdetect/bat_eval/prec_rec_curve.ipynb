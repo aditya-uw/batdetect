{
 "cells": [
  {
   "cell_type": "code",
   "execution_count": 2,
   "metadata": {},
   "outputs": [],
   "source": [
    "import numpy as np\n",
    "import matplotlib.pyplot as plt\n",
    "import pandas as pd\n",
    "from matplotlib import patches, text, patheffects"
   ]
  },
  {
   "cell_type": "code",
   "execution_count": 3,
   "metadata": {},
   "outputs": [],
   "source": [
    "import run_detector as main \n",
    "import cpu_detection as detector"
   ]
  },
  {
   "cell_type": "code",
   "execution_count": 4,
   "metadata": {},
   "outputs": [],
   "source": [
    "detections = pd.read_csv('Precision_Recall_detections.csv')"
   ]
  },
  {
   "cell_type": "code",
   "execution_count": 5,
   "metadata": {},
   "outputs": [],
   "source": [
    "dets_np = detections.to_numpy() # Convert to Numpy array with .to_numpy() \n",
    "#print(dets_np.shape)    "
   ]
  },
  {
   "cell_type": "code",
   "execution_count": 6,
   "metadata": {},
   "outputs": [],
   "source": [
    "start_times = dets_np[:, 3] # Glucose column\n",
    "#print(start_times.shape)"
   ]
  },
  {
   "cell_type": "code",
   "execution_count": 7,
   "metadata": {},
   "outputs": [],
   "source": [
    "# load data\n",
    "data_dir = 'ub_calls'          # this is the path to your audio files\n",
    "do_time_expansion = True       # if audio is already time expanded set this to False\n",
    "\n",
    "# read audio files\n",
    "audio_files = main.get_audio_files(data_dir)"
   ]
  },
  {
   "cell_type": "code",
   "execution_count": 10,
   "metadata": {},
   "outputs": [
    {
     "name": "stdout",
     "output_type": "stream",
     "text": [
      "There are 15 files\n",
      "['ub_calls/20210921_030000_HFonly_8s.wav', 'ub_calls/20210909_03_carppond_1245_1sec2.wav', 'ub_calls/20210921_03000045test2.wav', 'ub_calls/20210921_03000045test3.wav', 'ub_calls/20210921_030000test.wav', 'ub_calls/20210909_03_carppond_1230_1sec.wav', 'ub_calls/20210921_03000045test4.wav', 'ub_calls/20210910_070000_bat_party.wav', 'ub_calls/20210909_03_carppond_1230to1302(PRC).wav', 'ub_calls/20210910_030000HFnLF_2sec.wav', 'ub_calls/20210909_03_carppond_1245_1sec2_playable.wav', 'ub_calls/20210921_03000045test5.wav', 'ub_calls/20210921_030000_HFnLF_5s.wav', 'ub_calls/test_file.wav', 'ub_calls/20210909_03_carppond_1245_1sec.wav']\n",
      "ub_calls/20210909_03_carppond_1230to1302(PRC).wav\n"
     ]
    }
   ],
   "source": [
    "file_num = 9\n",
    "print(\"There are \" + str(len(audio_files)) + \" files\")\n",
    "file_name = audio_files[file_num-1]\n",
    "file_name_basename = file_name[len(data_dir):]\n",
    "print(audio_files)\n",
    "print(file_name)"
   ]
  },
  {
   "cell_type": "code",
   "execution_count": 11,
   "metadata": {},
   "outputs": [],
   "source": [
    "# load and create the detector    \n",
    "det_model_file = 'models/detector.npy'\n",
    "# The parameters are in models/detector_params.json\n",
    "det_params_file = det_model_file[:-4] + '_params.json'\n",
    "# Method CPUDetector is in cpu_detection.py\n",
    "det = detector.CPUDetector(det_model_file, det_params_file)"
   ]
  },
  {
   "cell_type": "code",
   "execution_count": 12,
   "metadata": {},
   "outputs": [],
   "source": [
    "# read audio file - skip file if can't read it\n",
    "read_fail, audio, file_dur, samp_rate, samp_rate_orig = main.read_audio(file_name,\n",
    "                        do_time_expansion, det.chunk_size, det.win_size)"
   ]
  },
  {
   "cell_type": "code",
   "execution_count": 13,
   "metadata": {},
   "outputs": [],
   "source": [
    "# Calling our method here to plot a figure for each file in the directory\n",
    "#main.plot_calls(audio, samp_rate_orig, det, start_times)"
   ]
  },
  {
   "cell_type": "code",
   "execution_count": 14,
   "metadata": {},
   "outputs": [],
   "source": [
    "#num_calls = len(start_times)\n",
    "#print('  ' + str(num_calls) + ' calls found')"
   ]
  },
  {
   "cell_type": "code",
   "execution_count": 15,
   "metadata": {},
   "outputs": [],
   "source": [
    "detection_thresh = 0.80\n",
    "    \n",
    "det_time, det_prob  = main.run_model(det, audio, file_dur, samp_rate,\n",
    "                                detection_thresh, do_time_expansion)"
   ]
  },
  {
   "cell_type": "code",
   "execution_count": 16,
   "metadata": {},
   "outputs": [],
   "source": [
    "# Calling our method here to plot a figure for each file in the directory\n",
    "#main.plot_calls(audio, samp_rate_orig, det, det_time)\n",
    "\n",
    "#num_calls = len(det_time)\n",
    "#print('  ' + str(num_calls) + ' calls found')\n",
    "#print(start_times)"
   ]
  },
  {
   "cell_type": "code",
   "execution_count": 17,
   "metadata": {},
   "outputs": [],
   "source": [
    "start_times.sort()"
   ]
  },
  {
   "cell_type": "code",
   "execution_count": 18,
   "metadata": {},
   "outputs": [],
   "source": [
    "def prec_rec(start_times, det_time, error):\n",
    "    TP = 0\n",
    "    FP = 0\n",
    "    TN = 0\n",
    "    FN = 0\n",
    "\n",
    "    start_time_index = 0\n",
    "    det_index = 0\n",
    "\n",
    "    while det_index < len(det_time) and start_time_index < len(start_times):\n",
    "        #print(\"\\nComparing \"+str(det_time[det_index])+\" with \"+str(start_times[start_time_index]))\n",
    "        if ((det_time[det_index] <= (start_times[start_time_index]+error)) and (det_time[det_index] >= (start_times[start_time_index]-error))):\n",
    "            TP+=1\n",
    "            start_time_index+=1\n",
    "            #print(\"There is a match! Calls detected correctly (it exists in both directories)\")\n",
    "            #print(\"TP value is\", TP)\n",
    "        else:\n",
    "            if (det_time[det_index] > (start_times[start_time_index]+error)):\n",
    "                FN+=1\n",
    "                det_index-=1\n",
    "                start_time_index+=1\n",
    "                #print(\"There is no match! Call undetected incorrectly (it does exist)\")\n",
    "                #print(\"FN value is\", FN)\n",
    "            else:\n",
    "                FP+=1\n",
    "                #print(\"There is no match! Call detected incorrectly (it does not exist)\")\n",
    "                #print(\"FP value is\", FP)\n",
    "        det_index+=1\n",
    "\n",
    "    #print(TP, FP, FN)\n",
    "    precision = TP/float(TP+FP)\n",
    "    recall = TP/float(TP+FN)\n",
    "\n",
    "    return precision, recall"
   ]
  },
  {
   "cell_type": "code",
   "execution_count": 22,
   "metadata": {},
   "outputs": [
    {
     "name": "stdout",
     "output_type": "stream",
     "text": [
      "('Error: ', 0.05, 'Threshold: ', 0.0)\n",
      "('Error: ', 0.05, 'Threshold: ', 0.01)\n",
      "('Error: ', 0.05, 'Threshold: ', 0.02)\n",
      "('Error: ', 0.05, 'Threshold: ', 0.03)\n",
      "('Error: ', 0.05, 'Threshold: ', 0.04)\n",
      "('Error: ', 0.05, 'Threshold: ', 0.05)\n",
      "('Error: ', 0.05, 'Threshold: ', 0.06)\n",
      "('Error: ', 0.05, 'Threshold: ', 0.07)\n",
      "('Error: ', 0.05, 'Threshold: ', 0.08)\n",
      "('Error: ', 0.05, 'Threshold: ', 0.09)\n",
      "('Error: ', 0.05, 'Threshold: ', 0.1)\n",
      "('Error: ', 0.05, 'Threshold: ', 0.11)\n",
      "('Error: ', 0.05, 'Threshold: ', 0.12)\n",
      "('Error: ', 0.05, 'Threshold: ', 0.13)\n",
      "('Error: ', 0.05, 'Threshold: ', 0.14)\n",
      "('Error: ', 0.05, 'Threshold: ', 0.15)\n",
      "('Error: ', 0.05, 'Threshold: ', 0.16)\n",
      "('Error: ', 0.05, 'Threshold: ', 0.17)\n",
      "('Error: ', 0.05, 'Threshold: ', 0.18)\n",
      "('Error: ', 0.05, 'Threshold: ', 0.19)\n",
      "('Error: ', 0.05, 'Threshold: ', 0.2)\n",
      "('Error: ', 0.05, 'Threshold: ', 0.21)\n",
      "('Error: ', 0.05, 'Threshold: ', 0.22)\n",
      "('Error: ', 0.05, 'Threshold: ', 0.23)\n",
      "('Error: ', 0.05, 'Threshold: ', 0.24)\n",
      "('Error: ', 0.05, 'Threshold: ', 0.25)\n",
      "('Error: ', 0.05, 'Threshold: ', 0.26)\n",
      "('Error: ', 0.05, 'Threshold: ', 0.27)\n",
      "('Error: ', 0.05, 'Threshold: ', 0.28)\n",
      "('Error: ', 0.05, 'Threshold: ', 0.29)\n",
      "('Error: ', 0.05, 'Threshold: ', 0.3)\n",
      "('Error: ', 0.05, 'Threshold: ', 0.31)\n",
      "('Error: ', 0.05, 'Threshold: ', 0.32)\n",
      "('Error: ', 0.05, 'Threshold: ', 0.33)\n",
      "('Error: ', 0.05, 'Threshold: ', 0.34)\n",
      "('Error: ', 0.05, 'Threshold: ', 0.35)\n",
      "('Error: ', 0.05, 'Threshold: ', 0.36)\n",
      "('Error: ', 0.05, 'Threshold: ', 0.37)\n",
      "('Error: ', 0.05, 'Threshold: ', 0.38)\n",
      "('Error: ', 0.05, 'Threshold: ', 0.39)\n",
      "('Error: ', 0.05, 'Threshold: ', 0.4)\n",
      "('Error: ', 0.05, 'Threshold: ', 0.41)\n",
      "('Error: ', 0.05, 'Threshold: ', 0.42)\n",
      "('Error: ', 0.05, 'Threshold: ', 0.43)\n",
      "('Error: ', 0.05, 'Threshold: ', 0.44)\n",
      "('Error: ', 0.05, 'Threshold: ', 0.45)\n",
      "('Error: ', 0.05, 'Threshold: ', 0.46)\n",
      "('Error: ', 0.05, 'Threshold: ', 0.47)\n",
      "('Error: ', 0.05, 'Threshold: ', 0.48)\n",
      "('Error: ', 0.05, 'Threshold: ', 0.49)\n",
      "('Error: ', 0.05, 'Threshold: ', 0.5)\n",
      "('Error: ', 0.05, 'Threshold: ', 0.51)\n",
      "('Error: ', 0.05, 'Threshold: ', 0.52)\n",
      "('Error: ', 0.05, 'Threshold: ', 0.53)\n",
      "('Error: ', 0.05, 'Threshold: ', 0.54)\n",
      "('Error: ', 0.05, 'Threshold: ', 0.55)\n",
      "('Error: ', 0.05, 'Threshold: ', 0.56)\n",
      "('Error: ', 0.05, 'Threshold: ', 0.57)\n",
      "('Error: ', 0.05, 'Threshold: ', 0.58)\n",
      "('Error: ', 0.05, 'Threshold: ', 0.59)\n",
      "('Error: ', 0.05, 'Threshold: ', 0.6)\n",
      "('Error: ', 0.05, 'Threshold: ', 0.61)\n",
      "('Error: ', 0.05, 'Threshold: ', 0.62)\n",
      "('Error: ', 0.05, 'Threshold: ', 0.63)\n",
      "('Error: ', 0.05, 'Threshold: ', 0.64)\n",
      "('Error: ', 0.05, 'Threshold: ', 0.65)\n",
      "('Error: ', 0.05, 'Threshold: ', 0.66)\n",
      "('Error: ', 0.05, 'Threshold: ', 0.67)\n",
      "('Error: ', 0.05, 'Threshold: ', 0.68)\n",
      "('Error: ', 0.05, 'Threshold: ', 0.69)\n",
      "('Error: ', 0.05, 'Threshold: ', 0.7)\n",
      "('Error: ', 0.05, 'Threshold: ', 0.71)\n",
      "('Error: ', 0.05, 'Threshold: ', 0.72)\n",
      "('Error: ', 0.05, 'Threshold: ', 0.73)\n",
      "('Error: ', 0.05, 'Threshold: ', 0.74)\n",
      "('Error: ', 0.05, 'Threshold: ', 0.75)\n",
      "('Error: ', 0.05, 'Threshold: ', 0.76)\n",
      "('Error: ', 0.05, 'Threshold: ', 0.77)\n",
      "('Error: ', 0.05, 'Threshold: ', 0.78)\n",
      "('Error: ', 0.05, 'Threshold: ', 0.79)\n",
      "('Error: ', 0.05, 'Threshold: ', 0.8)\n",
      "('Error: ', 0.05, 'Threshold: ', 0.81)\n",
      "('Error: ', 0.05, 'Threshold: ', 0.82)\n",
      "('Error: ', 0.05, 'Threshold: ', 0.83)\n",
      "('Error: ', 0.05, 'Threshold: ', 0.84)\n",
      "('Error: ', 0.05, 'Threshold: ', 0.85)\n",
      "('Error: ', 0.05, 'Threshold: ', 0.86)\n",
      "('Error: ', 0.05, 'Threshold: ', 0.87)\n",
      "('Error: ', 0.05, 'Threshold: ', 0.88)\n",
      "('Error: ', 0.05, 'Threshold: ', 0.89)\n",
      "('Error: ', 0.05, 'Threshold: ', 0.9)\n",
      "('Error: ', 0.05, 'Threshold: ', 0.91)\n",
      "('Error: ', 0.05, 'Threshold: ', 0.92)\n",
      "('Error: ', 0.05, 'Threshold: ', 0.93)\n",
      "('Error: ', 0.05, 'Threshold: ', 0.94)\n",
      "('Error: ', 0.05, 'Threshold: ', 0.95)\n",
      "('Error: ', 0.05, 'Threshold: ', 0.96)\n",
      "('Error: ', 0.05, 'Threshold: ', 0.97)\n",
      "('Error: ', 0.05, 'Threshold: ', 0.98)\n",
      "('Error: ', 0.05, 'Threshold: ', 0.99)\n",
      "('Error: ', 0.05, 'Threshold: ', 1.0)\n"
     ]
    }
   ],
   "source": [
    "detection_thresh_arr_err = np.arange(0, 101, 1.0)/100\n",
    "precision_err = np.zeros(101)\n",
    "recall_err = np.zeros(101)\n",
    "error = 0.05 # +/- 0.05 seconds\n",
    "\n",
    "for slot, detection_thresh in enumerate(detection_thresh_arr_err):\n",
    "        print(\"Error: \", err, \"Threshold: \", detection_thresh)\n",
    "        det_time, det_prob  = main.run_model(det, audio, file_dur, samp_rate,\n",
    "                                    detection_thresh, do_time_expansion)\n",
    "\n",
    "        precision_err[slot], recall_err[slot] = prec_rec(start_times, det_time, err)"
   ]
  },
  {
   "cell_type": "code",
   "execution_count": 45,
   "metadata": {},
   "outputs": [
    {
     "data": {
      "image/png": "[encoded data removed]",
      "text/plain": [
       "<Figure size 576x576 with 1 Axes>"
      ]
     },
     "metadata": {
      "needs_background": "light"
     },
     "output_type": "display_data"
    }
   ],
   "source": [
    "fsize=20\n",
    "fig = plt.figure(figsize=(8,8))\n",
    "plt.rcParams['font.size'] = str(fsize)\n",
    "plt.plot(recall_err, precision_err)\n",
    "plt.plot(recall_err[80], precision_err[80], 'ro')\n",
    "\n",
    "#add axis labels to plot\n",
    "plt.title('Precision-Recall Curve')\n",
    "plt.ylabel('Precision')\n",
    "plt.xlabel('Recall')\n",
    "\n",
    "#display plot\n",
    "plt.show()"
   ]
  },
  {
   "cell_type": "code",
   "execution_count": 36,
   "metadata": {},
   "outputs": [
    {
     "name": "stdout",
     "output_type": "stream",
     "text": [
      "(80, 0.9095744680851063, 0.9095744680851063)\n"
     ]
    }
   ],
   "source": [
    "for i in range(len(precision_err)):\n",
    "    if(recall_err[i]==precision_err[i]):\n",
    "        print(i, recall_err[i], precision_err[i])"
   ]
  },
  {
   "cell_type": "code",
   "execution_count": 20,
   "metadata": {},
   "outputs": [
    {
     "name": "stdout",
     "output_type": "stream",
     "text": [
      "('Checking for error = ', 0.05)\n",
      "('Error: ', 0.05, 'Threshold: ', 0.0)\n",
      "('Error: ', 0.05, 'Threshold: ', 0.01)\n",
      "('Error: ', 0.05, 'Threshold: ', 0.02)\n",
      "('Error: ', 0.05, 'Threshold: ', 0.03)\n",
      "('Error: ', 0.05, 'Threshold: ', 0.04)\n",
      "('Error: ', 0.05, 'Threshold: ', 0.05)\n",
      "('Error: ', 0.05, 'Threshold: ', 0.06)\n",
      "('Error: ', 0.05, 'Threshold: ', 0.07)\n",
      "('Error: ', 0.05, 'Threshold: ', 0.08)\n",
      "('Error: ', 0.05, 'Threshold: ', 0.09)\n",
      "('Error: ', 0.05, 'Threshold: ', 0.1)\n",
      "('Error: ', 0.05, 'Threshold: ', 0.11)\n",
      "('Error: ', 0.05, 'Threshold: ', 0.12)\n",
      "('Error: ', 0.05, 'Threshold: ', 0.13)\n",
      "('Error: ', 0.05, 'Threshold: ', 0.14)\n",
      "('Error: ', 0.05, 'Threshold: ', 0.15)\n",
      "('Error: ', 0.05, 'Threshold: ', 0.16)\n",
      "('Error: ', 0.05, 'Threshold: ', 0.17)\n",
      "('Error: ', 0.05, 'Threshold: ', 0.18)\n",
      "('Error: ', 0.05, 'Threshold: ', 0.19)\n",
      "('Error: ', 0.05, 'Threshold: ', 0.2)\n",
      "('Error: ', 0.05, 'Threshold: ', 0.21)\n",
      "('Error: ', 0.05, 'Threshold: ', 0.22)\n",
      "('Error: ', 0.05, 'Threshold: ', 0.23)\n",
      "('Error: ', 0.05, 'Threshold: ', 0.24)\n",
      "('Error: ', 0.05, 'Threshold: ', 0.25)\n",
      "('Error: ', 0.05, 'Threshold: ', 0.26)\n",
      "('Error: ', 0.05, 'Threshold: ', 0.27)\n",
      "('Error: ', 0.05, 'Threshold: ', 0.28)\n",
      "('Error: ', 0.05, 'Threshold: ', 0.29)\n",
      "('Error: ', 0.05, 'Threshold: ', 0.3)\n",
      "('Error: ', 0.05, 'Threshold: ', 0.31)\n",
      "('Error: ', 0.05, 'Threshold: ', 0.32)\n",
      "('Error: ', 0.05, 'Threshold: ', 0.33)\n",
      "('Error: ', 0.05, 'Threshold: ', 0.34)\n",
      "('Error: ', 0.05, 'Threshold: ', 0.35)\n",
      "('Error: ', 0.05, 'Threshold: ', 0.36)\n",
      "('Error: ', 0.05, 'Threshold: ', 0.37)\n",
      "('Error: ', 0.05, 'Threshold: ', 0.38)\n",
      "('Error: ', 0.05, 'Threshold: ', 0.39)\n",
      "('Error: ', 0.05, 'Threshold: ', 0.4)\n",
      "('Error: ', 0.05, 'Threshold: ', 0.41)\n",
      "('Error: ', 0.05, 'Threshold: ', 0.42)\n",
      "('Error: ', 0.05, 'Threshold: ', 0.43)\n",
      "('Error: ', 0.05, 'Threshold: ', 0.44)\n",
      "('Error: ', 0.05, 'Threshold: ', 0.45)\n",
      "('Error: ', 0.05, 'Threshold: ', 0.46)\n",
      "('Error: ', 0.05, 'Threshold: ', 0.47)\n",
      "('Error: ', 0.05, 'Threshold: ', 0.48)\n",
      "('Error: ', 0.05, 'Threshold: ', 0.49)\n",
      "('Error: ', 0.05, 'Threshold: ', 0.5)\n",
      "('Error: ', 0.05, 'Threshold: ', 0.51)\n",
      "('Error: ', 0.05, 'Threshold: ', 0.52)\n",
      "('Error: ', 0.05, 'Threshold: ', 0.53)\n",
      "('Error: ', 0.05, 'Threshold: ', 0.54)\n",
      "('Error: ', 0.05, 'Threshold: ', 0.55)\n",
      "('Error: ', 0.05, 'Threshold: ', 0.56)\n",
      "('Error: ', 0.05, 'Threshold: ', 0.57)\n",
      "('Error: ', 0.05, 'Threshold: ', 0.58)\n",
      "('Error: ', 0.05, 'Threshold: ', 0.59)\n",
      "('Error: ', 0.05, 'Threshold: ', 0.6)\n",
      "('Error: ', 0.05, 'Threshold: ', 0.61)\n",
      "('Error: ', 0.05, 'Threshold: ', 0.62)\n",
      "('Error: ', 0.05, 'Threshold: ', 0.63)\n",
      "('Error: ', 0.05, 'Threshold: ', 0.64)\n",
      "('Error: ', 0.05, 'Threshold: ', 0.65)\n",
      "('Error: ', 0.05, 'Threshold: ', 0.66)\n",
      "('Error: ', 0.05, 'Threshold: ', 0.67)\n",
      "('Error: ', 0.05, 'Threshold: ', 0.68)\n",
      "('Error: ', 0.05, 'Threshold: ', 0.69)\n",
      "('Error: ', 0.05, 'Threshold: ', 0.7)\n",
      "('Error: ', 0.05, 'Threshold: ', 0.71)\n",
      "('Error: ', 0.05, 'Threshold: ', 0.72)\n",
      "('Error: ', 0.05, 'Threshold: ', 0.73)\n",
      "('Error: ', 0.05, 'Threshold: ', 0.74)\n",
      "('Error: ', 0.05, 'Threshold: ', 0.75)\n",
      "('Error: ', 0.05, 'Threshold: ', 0.76)\n",
      "('Error: ', 0.05, 'Threshold: ', 0.77)\n",
      "('Error: ', 0.05, 'Threshold: ', 0.78)\n",
      "('Error: ', 0.05, 'Threshold: ', 0.79)\n",
      "('Error: ', 0.05, 'Threshold: ', 0.8)\n",
      "('Error: ', 0.05, 'Threshold: ', 0.81)\n",
      "('Error: ', 0.05, 'Threshold: ', 0.82)\n",
      "('Error: ', 0.05, 'Threshold: ', 0.83)\n",
      "('Error: ', 0.05, 'Threshold: ', 0.84)\n",
      "('Error: ', 0.05, 'Threshold: ', 0.85)\n",
      "('Error: ', 0.05, 'Threshold: ', 0.86)\n",
      "('Error: ', 0.05, 'Threshold: ', 0.87)\n",
      "('Error: ', 0.05, 'Threshold: ', 0.88)\n",
      "('Error: ', 0.05, 'Threshold: ', 0.89)\n",
      "('Error: ', 0.05, 'Threshold: ', 0.9)\n",
      "('Error: ', 0.05, 'Threshold: ', 0.91)\n",
      "('Error: ', 0.05, 'Threshold: ', 0.92)\n",
      "('Error: ', 0.05, 'Threshold: ', 0.93)\n",
      "('Error: ', 0.05, 'Threshold: ', 0.94)\n",
      "('Error: ', 0.05, 'Threshold: ', 0.95)\n",
      "('Error: ', 0.05, 'Threshold: ', 0.96)\n",
      "('Error: ', 0.05, 'Threshold: ', 0.97)\n",
      "('Error: ', 0.05, 'Threshold: ', 0.98)\n",
      "('Error: ', 0.05, 'Threshold: ', 0.99)\n",
      "('Error: ', 0.05, 'Threshold: ', 1.0)\n"
     ]
    },
    {
     "ename": "IndexError",
     "evalue": "index 100 is out of bounds for axis 0 with size 100",
     "output_type": "error",
     "traceback": [
      "\u001b[0;31m---------------------------------------------------------------------------\u001b[0m",
      "\u001b[0;31mIndexError\u001b[0m                                Traceback (most recent call last)",
      "\u001b[0;32m<ipython-input-20-157715ccbd7b>\u001b[0m in \u001b[0;36m<module>\u001b[0;34m()\u001b[0m\n\u001b[1;32m     12\u001b[0m                                     detection_thresh, do_time_expansion)\n\u001b[1;32m     13\u001b[0m \u001b[0;34m\u001b[0m\u001b[0m\n\u001b[0;32m---> 14\u001b[0;31m         \u001b[0mprecision_err\u001b[0m\u001b[0;34m[\u001b[0m\u001b[0merror_slot\u001b[0m\u001b[0;34m]\u001b[0m\u001b[0;34m[\u001b[0m\u001b[0mslot\u001b[0m\u001b[0;34m]\u001b[0m\u001b[0;34m,\u001b[0m \u001b[0mrecall_err\u001b[0m\u001b[0;34m[\u001b[0m\u001b[0merror_slot\u001b[0m\u001b[0;34m]\u001b[0m\u001b[0;34m[\u001b[0m\u001b[0mslot\u001b[0m\u001b[0;34m]\u001b[0m \u001b[0;34m=\u001b[0m \u001b[0mprec_rec\u001b[0m\u001b[0;34m(\u001b[0m\u001b[0mstart_times\u001b[0m\u001b[0;34m,\u001b[0m \u001b[0mdet_time\u001b[0m\u001b[0;34m,\u001b[0m \u001b[0merr\u001b[0m\u001b[0;34m)\u001b[0m\u001b[0;34m\u001b[0m\u001b[0m\n\u001b[0m",
      "\u001b[0;31mIndexError\u001b[0m: index 100 is out of bounds for axis 0 with size 100"
     ]
    }
   ],
   "source": [
    "detection_thresh_arr_err = np.arange(0, 100, 1.0)/100\n",
    "precision_err = np.zeros((4, 100))\n",
    "recall_err = np.zeros((4, 100))\n",
    "#print(precision_err)\n",
    "\n",
    "for error_slot in range(0, 4):\n",
    "    err = error_slot*0.025 + 0.025\n",
    "    print(\"Checking for error = \", err)\n",
    "    for slot, detection_thresh in enumerate(detection_thresh_arr_err):\n",
    "        print(\"Error: \", err, \"Threshold: \", detection_thresh)\n",
    "        det_time, det_prob  = main.run_model(det, audio, file_dur, samp_rate,\n",
    "                                    detection_thresh, do_time_expansion)\n",
    "\n",
    "        precision_err[error_slot][slot], recall_err[error_slot][slot] = prec_rec(start_times, det_time, err)"
   ]
  },
  {
   "cell_type": "code",
   "execution_count": 24,
   "metadata": {},
   "outputs": [
    {
     "data": {
      "image/png": "[encoded data removed]",
      "text/plain": [
       "<Figure size 432x288 with 1 Axes>"
      ]
     },
     "metadata": {
      "needs_background": "light"
     },
     "output_type": "display_data"
    },
    {
     "data": {
      "image/png": "[encoded data removed]",
      "text/plain": [
       "<Figure size 432x288 with 1 Axes>"
      ]
     },
     "metadata": {
      "needs_background": "light"
     },
     "output_type": "display_data"
    },
    {
     "data": {
      "image/png": "[encoded data removed]",
      "text/plain": [
       "<Figure size 432x288 with 1 Axes>"
      ]
     },
     "metadata": {
      "needs_background": "light"
     },
     "output_type": "display_data"
    },
    {
     "data": {
      "image/png": "[encoded data removed]",
      "text/plain": [
       "<Figure size 432x288 with 1 Axes>"
      ]
     },
     "metadata": {
      "needs_background": "light"
     },
     "output_type": "display_data"
    }
   ],
   "source": [
    "for error_slot in range(1, 2):\n",
    "    fig, ax = plt.subplots()\n",
    "    ax.plot(recall_err[error_slot], precision_err[error_slot])\n",
    "\n",
    "    #add axis labels to plot\n",
    "    ax.set_title('Precision-Recall Curve with '+str(0.025*error_slot +0.025)+'s error')\n",
    "    ax.set_ylabel('Precision')\n",
    "    ax.set_xlabel('Recall')\n",
    "\n",
    "    #display plot\n",
    "    plt.show()"
   ]
  },
  {
   "cell_type": "code",
   "execution_count": 25,
   "metadata": {},
   "outputs": [
    {
     "name": "stdout",
     "output_type": "stream",
     "text": [
      "('Checking for error = ', 0.01)\n",
      "('Error: ', 0.01, 'Threshold: ', 0.0)\n",
      "('Error: ', 0.01, 'Threshold: ', 0.01)\n",
      "('Error: ', 0.01, 'Threshold: ', 0.02)\n",
      "('Error: ', 0.01, 'Threshold: ', 0.03)\n",
      "('Error: ', 0.01, 'Threshold: ', 0.04)\n",
      "('Error: ', 0.01, 'Threshold: ', 0.05)\n",
      "('Error: ', 0.01, 'Threshold: ', 0.06)\n",
      "('Error: ', 0.01, 'Threshold: ', 0.07)\n",
      "('Error: ', 0.01, 'Threshold: ', 0.08)\n",
      "('Error: ', 0.01, 'Threshold: ', 0.09)\n",
      "('Error: ', 0.01, 'Threshold: ', 0.1)\n",
      "('Error: ', 0.01, 'Threshold: ', 0.11)\n",
      "('Error: ', 0.01, 'Threshold: ', 0.12)\n",
      "('Error: ', 0.01, 'Threshold: ', 0.13)\n",
      "('Error: ', 0.01, 'Threshold: ', 0.14)\n",
      "('Error: ', 0.01, 'Threshold: ', 0.15)\n",
      "('Error: ', 0.01, 'Threshold: ', 0.16)\n",
      "('Error: ', 0.01, 'Threshold: ', 0.17)\n",
      "('Error: ', 0.01, 'Threshold: ', 0.18)\n",
      "('Error: ', 0.01, 'Threshold: ', 0.19)\n",
      "('Error: ', 0.01, 'Threshold: ', 0.2)\n",
      "('Error: ', 0.01, 'Threshold: ', 0.21)\n",
      "('Error: ', 0.01, 'Threshold: ', 0.22)\n",
      "('Error: ', 0.01, 'Threshold: ', 0.23)\n",
      "('Error: ', 0.01, 'Threshold: ', 0.24)\n",
      "('Error: ', 0.01, 'Threshold: ', 0.25)\n",
      "('Error: ', 0.01, 'Threshold: ', 0.26)\n",
      "('Error: ', 0.01, 'Threshold: ', 0.27)\n",
      "('Error: ', 0.01, 'Threshold: ', 0.28)\n",
      "('Error: ', 0.01, 'Threshold: ', 0.29)\n",
      "('Error: ', 0.01, 'Threshold: ', 0.3)\n",
      "('Error: ', 0.01, 'Threshold: ', 0.31)\n",
      "('Error: ', 0.01, 'Threshold: ', 0.32)\n",
      "('Error: ', 0.01, 'Threshold: ', 0.33)\n",
      "('Error: ', 0.01, 'Threshold: ', 0.34)\n",
      "('Error: ', 0.01, 'Threshold: ', 0.35)\n",
      "('Error: ', 0.01, 'Threshold: ', 0.36)\n",
      "('Error: ', 0.01, 'Threshold: ', 0.37)\n",
      "('Error: ', 0.01, 'Threshold: ', 0.38)\n",
      "('Error: ', 0.01, 'Threshold: ', 0.39)\n",
      "('Error: ', 0.01, 'Threshold: ', 0.4)\n",
      "('Error: ', 0.01, 'Threshold: ', 0.41)\n",
      "('Error: ', 0.01, 'Threshold: ', 0.42)\n",
      "('Error: ', 0.01, 'Threshold: ', 0.43)\n",
      "('Error: ', 0.01, 'Threshold: ', 0.44)\n",
      "('Error: ', 0.01, 'Threshold: ', 0.45)\n",
      "('Error: ', 0.01, 'Threshold: ', 0.46)\n",
      "('Error: ', 0.01, 'Threshold: ', 0.47)\n",
      "('Error: ', 0.01, 'Threshold: ', 0.48)\n",
      "('Error: ', 0.01, 'Threshold: ', 0.49)\n",
      "('Error: ', 0.01, 'Threshold: ', 0.5)\n",
      "('Error: ', 0.01, 'Threshold: ', 0.51)\n",
      "('Error: ', 0.01, 'Threshold: ', 0.52)\n",
      "('Error: ', 0.01, 'Threshold: ', 0.53)\n",
      "('Error: ', 0.01, 'Threshold: ', 0.54)\n",
      "('Error: ', 0.01, 'Threshold: ', 0.55)\n",
      "('Error: ', 0.01, 'Threshold: ', 0.56)\n",
      "('Error: ', 0.01, 'Threshold: ', 0.57)\n",
      "('Error: ', 0.01, 'Threshold: ', 0.58)\n",
      "('Error: ', 0.01, 'Threshold: ', 0.59)\n",
      "('Error: ', 0.01, 'Threshold: ', 0.6)\n",
      "('Error: ', 0.01, 'Threshold: ', 0.61)\n",
      "('Error: ', 0.01, 'Threshold: ', 0.62)\n",
      "('Error: ', 0.01, 'Threshold: ', 0.63)\n",
      "('Error: ', 0.01, 'Threshold: ', 0.64)\n",
      "('Error: ', 0.01, 'Threshold: ', 0.65)\n",
      "('Error: ', 0.01, 'Threshold: ', 0.66)\n",
      "('Error: ', 0.01, 'Threshold: ', 0.67)\n",
      "('Error: ', 0.01, 'Threshold: ', 0.68)\n",
      "('Error: ', 0.01, 'Threshold: ', 0.69)\n",
      "('Error: ', 0.01, 'Threshold: ', 0.7)\n",
      "('Error: ', 0.01, 'Threshold: ', 0.71)\n",
      "('Error: ', 0.01, 'Threshold: ', 0.72)\n",
      "('Error: ', 0.01, 'Threshold: ', 0.73)\n",
      "('Error: ', 0.01, 'Threshold: ', 0.74)\n",
      "('Error: ', 0.01, 'Threshold: ', 0.75)\n",
      "('Error: ', 0.01, 'Threshold: ', 0.76)\n",
      "('Error: ', 0.01, 'Threshold: ', 0.77)\n",
      "('Error: ', 0.01, 'Threshold: ', 0.78)\n",
      "('Error: ', 0.01, 'Threshold: ', 0.79)\n",
      "('Error: ', 0.01, 'Threshold: ', 0.8)\n",
      "('Error: ', 0.01, 'Threshold: ', 0.81)\n",
      "('Error: ', 0.01, 'Threshold: ', 0.82)\n",
      "('Error: ', 0.01, 'Threshold: ', 0.83)\n",
      "('Error: ', 0.01, 'Threshold: ', 0.84)\n",
      "('Error: ', 0.01, 'Threshold: ', 0.85)\n",
      "('Error: ', 0.01, 'Threshold: ', 0.86)\n",
      "('Error: ', 0.01, 'Threshold: ', 0.87)\n",
      "('Error: ', 0.01, 'Threshold: ', 0.88)\n",
      "('Error: ', 0.01, 'Threshold: ', 0.89)\n",
      "('Error: ', 0.01, 'Threshold: ', 0.9)\n",
      "('Error: ', 0.01, 'Threshold: ', 0.91)\n",
      "('Error: ', 0.01, 'Threshold: ', 0.92)\n",
      "('Error: ', 0.01, 'Threshold: ', 0.93)\n",
      "('Error: ', 0.01, 'Threshold: ', 0.94)\n",
      "('Error: ', 0.01, 'Threshold: ', 0.95)\n",
      "('Error: ', 0.01, 'Threshold: ', 0.96)\n",
      "('Error: ', 0.01, 'Threshold: ', 0.97)\n",
      "('Error: ', 0.01, 'Threshold: ', 0.98)\n",
      "('Error: ', 0.01, 'Threshold: ', 0.99)\n",
      "('Checking for error = ', 0.02)\n",
      "('Error: ', 0.02, 'Threshold: ', 0.0)\n",
      "('Error: ', 0.02, 'Threshold: ', 0.01)\n",
      "('Error: ', 0.02, 'Threshold: ', 0.02)\n",
      "('Error: ', 0.02, 'Threshold: ', 0.03)\n",
      "('Error: ', 0.02, 'Threshold: ', 0.04)\n",
      "('Error: ', 0.02, 'Threshold: ', 0.05)\n",
      "('Error: ', 0.02, 'Threshold: ', 0.06)\n",
      "('Error: ', 0.02, 'Threshold: ', 0.07)\n",
      "('Error: ', 0.02, 'Threshold: ', 0.08)\n",
      "('Error: ', 0.02, 'Threshold: ', 0.09)\n",
      "('Error: ', 0.02, 'Threshold: ', 0.1)\n",
      "('Error: ', 0.02, 'Threshold: ', 0.11)\n",
      "('Error: ', 0.02, 'Threshold: ', 0.12)\n",
      "('Error: ', 0.02, 'Threshold: ', 0.13)\n",
      "('Error: ', 0.02, 'Threshold: ', 0.14)\n",
      "('Error: ', 0.02, 'Threshold: ', 0.15)\n",
      "('Error: ', 0.02, 'Threshold: ', 0.16)\n",
      "('Error: ', 0.02, 'Threshold: ', 0.17)\n",
      "('Error: ', 0.02, 'Threshold: ', 0.18)\n",
      "('Error: ', 0.02, 'Threshold: ', 0.19)\n",
      "('Error: ', 0.02, 'Threshold: ', 0.2)\n",
      "('Error: ', 0.02, 'Threshold: ', 0.21)\n",
      "('Error: ', 0.02, 'Threshold: ', 0.22)\n",
      "('Error: ', 0.02, 'Threshold: ', 0.23)\n",
      "('Error: ', 0.02, 'Threshold: ', 0.24)\n",
      "('Error: ', 0.02, 'Threshold: ', 0.25)\n",
      "('Error: ', 0.02, 'Threshold: ', 0.26)\n",
      "('Error: ', 0.02, 'Threshold: ', 0.27)\n",
      "('Error: ', 0.02, 'Threshold: ', 0.28)\n",
      "('Error: ', 0.02, 'Threshold: ', 0.29)\n",
      "('Error: ', 0.02, 'Threshold: ', 0.3)\n",
      "('Error: ', 0.02, 'Threshold: ', 0.31)\n",
      "('Error: ', 0.02, 'Threshold: ', 0.32)\n",
      "('Error: ', 0.02, 'Threshold: ', 0.33)\n",
      "('Error: ', 0.02, 'Threshold: ', 0.34)\n",
      "('Error: ', 0.02, 'Threshold: ', 0.35)\n",
      "('Error: ', 0.02, 'Threshold: ', 0.36)\n",
      "('Error: ', 0.02, 'Threshold: ', 0.37)\n",
      "('Error: ', 0.02, 'Threshold: ', 0.38)\n",
      "('Error: ', 0.02, 'Threshold: ', 0.39)\n",
      "('Error: ', 0.02, 'Threshold: ', 0.4)\n",
      "('Error: ', 0.02, 'Threshold: ', 0.41)\n",
      "('Error: ', 0.02, 'Threshold: ', 0.42)\n",
      "('Error: ', 0.02, 'Threshold: ', 0.43)\n",
      "('Error: ', 0.02, 'Threshold: ', 0.44)\n",
      "('Error: ', 0.02, 'Threshold: ', 0.45)\n",
      "('Error: ', 0.02, 'Threshold: ', 0.46)\n",
      "('Error: ', 0.02, 'Threshold: ', 0.47)\n",
      "('Error: ', 0.02, 'Threshold: ', 0.48)\n",
      "('Error: ', 0.02, 'Threshold: ', 0.49)\n",
      "('Error: ', 0.02, 'Threshold: ', 0.5)\n",
      "('Error: ', 0.02, 'Threshold: ', 0.51)\n",
      "('Error: ', 0.02, 'Threshold: ', 0.52)\n",
      "('Error: ', 0.02, 'Threshold: ', 0.53)\n",
      "('Error: ', 0.02, 'Threshold: ', 0.54)\n",
      "('Error: ', 0.02, 'Threshold: ', 0.55)\n",
      "('Error: ', 0.02, 'Threshold: ', 0.56)\n",
      "('Error: ', 0.02, 'Threshold: ', 0.57)\n",
      "('Error: ', 0.02, 'Threshold: ', 0.58)\n",
      "('Error: ', 0.02, 'Threshold: ', 0.59)\n",
      "('Error: ', 0.02, 'Threshold: ', 0.6)\n",
      "('Error: ', 0.02, 'Threshold: ', 0.61)\n",
      "('Error: ', 0.02, 'Threshold: ', 0.62)\n",
      "('Error: ', 0.02, 'Threshold: ', 0.63)\n",
      "('Error: ', 0.02, 'Threshold: ', 0.64)\n",
      "('Error: ', 0.02, 'Threshold: ', 0.65)\n",
      "('Error: ', 0.02, 'Threshold: ', 0.66)\n",
      "('Error: ', 0.02, 'Threshold: ', 0.67)\n",
      "('Error: ', 0.02, 'Threshold: ', 0.68)\n",
      "('Error: ', 0.02, 'Threshold: ', 0.69)\n",
      "('Error: ', 0.02, 'Threshold: ', 0.7)\n",
      "('Error: ', 0.02, 'Threshold: ', 0.71)\n",
      "('Error: ', 0.02, 'Threshold: ', 0.72)\n",
      "('Error: ', 0.02, 'Threshold: ', 0.73)\n",
      "('Error: ', 0.02, 'Threshold: ', 0.74)\n",
      "('Error: ', 0.02, 'Threshold: ', 0.75)\n",
      "('Error: ', 0.02, 'Threshold: ', 0.76)\n",
      "('Error: ', 0.02, 'Threshold: ', 0.77)\n",
      "('Error: ', 0.02, 'Threshold: ', 0.78)\n",
      "('Error: ', 0.02, 'Threshold: ', 0.79)\n",
      "('Error: ', 0.02, 'Threshold: ', 0.8)\n",
      "('Error: ', 0.02, 'Threshold: ', 0.81)\n",
      "('Error: ', 0.02, 'Threshold: ', 0.82)\n",
      "('Error: ', 0.02, 'Threshold: ', 0.83)\n",
      "('Error: ', 0.02, 'Threshold: ', 0.84)\n",
      "('Error: ', 0.02, 'Threshold: ', 0.85)\n",
      "('Error: ', 0.02, 'Threshold: ', 0.86)\n",
      "('Error: ', 0.02, 'Threshold: ', 0.87)\n",
      "('Error: ', 0.02, 'Threshold: ', 0.88)\n",
      "('Error: ', 0.02, 'Threshold: ', 0.89)\n",
      "('Error: ', 0.02, 'Threshold: ', 0.9)\n",
      "('Error: ', 0.02, 'Threshold: ', 0.91)\n",
      "('Error: ', 0.02, 'Threshold: ', 0.92)\n",
      "('Error: ', 0.02, 'Threshold: ', 0.93)\n",
      "('Error: ', 0.02, 'Threshold: ', 0.94)\n",
      "('Error: ', 0.02, 'Threshold: ', 0.95)\n",
      "('Error: ', 0.02, 'Threshold: ', 0.96)\n",
      "('Error: ', 0.02, 'Threshold: ', 0.97)\n",
      "('Error: ', 0.02, 'Threshold: ', 0.98)\n",
      "('Error: ', 0.02, 'Threshold: ', 0.99)\n",
      "('Checking for error = ', 0.03)\n",
      "('Error: ', 0.03, 'Threshold: ', 0.0)\n",
      "('Error: ', 0.03, 'Threshold: ', 0.01)\n",
      "('Error: ', 0.03, 'Threshold: ', 0.02)\n",
      "('Error: ', 0.03, 'Threshold: ', 0.03)\n",
      "('Error: ', 0.03, 'Threshold: ', 0.04)\n",
      "('Error: ', 0.03, 'Threshold: ', 0.05)\n",
      "('Error: ', 0.03, 'Threshold: ', 0.06)\n",
      "('Error: ', 0.03, 'Threshold: ', 0.07)\n",
      "('Error: ', 0.03, 'Threshold: ', 0.08)\n"
     ]
    },
    {
     "name": "stdout",
     "output_type": "stream",
     "text": [
      "('Error: ', 0.03, 'Threshold: ', 0.09)\n",
      "('Error: ', 0.03, 'Threshold: ', 0.1)\n",
      "('Error: ', 0.03, 'Threshold: ', 0.11)\n",
      "('Error: ', 0.03, 'Threshold: ', 0.12)\n",
      "('Error: ', 0.03, 'Threshold: ', 0.13)\n",
      "('Error: ', 0.03, 'Threshold: ', 0.14)\n",
      "('Error: ', 0.03, 'Threshold: ', 0.15)\n",
      "('Error: ', 0.03, 'Threshold: ', 0.16)\n",
      "('Error: ', 0.03, 'Threshold: ', 0.17)\n",
      "('Error: ', 0.03, 'Threshold: ', 0.18)\n",
      "('Error: ', 0.03, 'Threshold: ', 0.19)\n",
      "('Error: ', 0.03, 'Threshold: ', 0.2)\n",
      "('Error: ', 0.03, 'Threshold: ', 0.21)\n",
      "('Error: ', 0.03, 'Threshold: ', 0.22)\n",
      "('Error: ', 0.03, 'Threshold: ', 0.23)\n",
      "('Error: ', 0.03, 'Threshold: ', 0.24)\n",
      "('Error: ', 0.03, 'Threshold: ', 0.25)\n",
      "('Error: ', 0.03, 'Threshold: ', 0.26)\n",
      "('Error: ', 0.03, 'Threshold: ', 0.27)\n",
      "('Error: ', 0.03, 'Threshold: ', 0.28)\n",
      "('Error: ', 0.03, 'Threshold: ', 0.29)\n",
      "('Error: ', 0.03, 'Threshold: ', 0.3)\n",
      "('Error: ', 0.03, 'Threshold: ', 0.31)\n",
      "('Error: ', 0.03, 'Threshold: ', 0.32)\n",
      "('Error: ', 0.03, 'Threshold: ', 0.33)\n",
      "('Error: ', 0.03, 'Threshold: ', 0.34)\n",
      "('Error: ', 0.03, 'Threshold: ', 0.35)\n",
      "('Error: ', 0.03, 'Threshold: ', 0.36)\n",
      "('Error: ', 0.03, 'Threshold: ', 0.37)\n",
      "('Error: ', 0.03, 'Threshold: ', 0.38)\n",
      "('Error: ', 0.03, 'Threshold: ', 0.39)\n",
      "('Error: ', 0.03, 'Threshold: ', 0.4)\n",
      "('Error: ', 0.03, 'Threshold: ', 0.41)\n",
      "('Error: ', 0.03, 'Threshold: ', 0.42)\n",
      "('Error: ', 0.03, 'Threshold: ', 0.43)\n",
      "('Error: ', 0.03, 'Threshold: ', 0.44)\n",
      "('Error: ', 0.03, 'Threshold: ', 0.45)\n",
      "('Error: ', 0.03, 'Threshold: ', 0.46)\n",
      "('Error: ', 0.03, 'Threshold: ', 0.47)\n",
      "('Error: ', 0.03, 'Threshold: ', 0.48)\n",
      "('Error: ', 0.03, 'Threshold: ', 0.49)\n",
      "('Error: ', 0.03, 'Threshold: ', 0.5)\n",
      "('Error: ', 0.03, 'Threshold: ', 0.51)\n",
      "('Error: ', 0.03, 'Threshold: ', 0.52)\n",
      "('Error: ', 0.03, 'Threshold: ', 0.53)\n",
      "('Error: ', 0.03, 'Threshold: ', 0.54)\n",
      "('Error: ', 0.03, 'Threshold: ', 0.55)\n",
      "('Error: ', 0.03, 'Threshold: ', 0.56)\n",
      "('Error: ', 0.03, 'Threshold: ', 0.57)\n",
      "('Error: ', 0.03, 'Threshold: ', 0.58)\n",
      "('Error: ', 0.03, 'Threshold: ', 0.59)\n",
      "('Error: ', 0.03, 'Threshold: ', 0.6)\n",
      "('Error: ', 0.03, 'Threshold: ', 0.61)\n",
      "('Error: ', 0.03, 'Threshold: ', 0.62)\n",
      "('Error: ', 0.03, 'Threshold: ', 0.63)\n",
      "('Error: ', 0.03, 'Threshold: ', 0.64)\n",
      "('Error: ', 0.03, 'Threshold: ', 0.65)\n",
      "('Error: ', 0.03, 'Threshold: ', 0.66)\n",
      "('Error: ', 0.03, 'Threshold: ', 0.67)\n",
      "('Error: ', 0.03, 'Threshold: ', 0.68)\n",
      "('Error: ', 0.03, 'Threshold: ', 0.69)\n",
      "('Error: ', 0.03, 'Threshold: ', 0.7)\n",
      "('Error: ', 0.03, 'Threshold: ', 0.71)\n",
      "('Error: ', 0.03, 'Threshold: ', 0.72)\n",
      "('Error: ', 0.03, 'Threshold: ', 0.73)\n",
      "('Error: ', 0.03, 'Threshold: ', 0.74)\n",
      "('Error: ', 0.03, 'Threshold: ', 0.75)\n",
      "('Error: ', 0.03, 'Threshold: ', 0.76)\n",
      "('Error: ', 0.03, 'Threshold: ', 0.77)\n",
      "('Error: ', 0.03, 'Threshold: ', 0.78)\n",
      "('Error: ', 0.03, 'Threshold: ', 0.79)\n",
      "('Error: ', 0.03, 'Threshold: ', 0.8)\n",
      "('Error: ', 0.03, 'Threshold: ', 0.81)\n",
      "('Error: ', 0.03, 'Threshold: ', 0.82)\n",
      "('Error: ', 0.03, 'Threshold: ', 0.83)\n",
      "('Error: ', 0.03, 'Threshold: ', 0.84)\n",
      "('Error: ', 0.03, 'Threshold: ', 0.85)\n",
      "('Error: ', 0.03, 'Threshold: ', 0.86)\n",
      "('Error: ', 0.03, 'Threshold: ', 0.87)\n",
      "('Error: ', 0.03, 'Threshold: ', 0.88)\n",
      "('Error: ', 0.03, 'Threshold: ', 0.89)\n",
      "('Error: ', 0.03, 'Threshold: ', 0.9)\n",
      "('Error: ', 0.03, 'Threshold: ', 0.91)\n",
      "('Error: ', 0.03, 'Threshold: ', 0.92)\n",
      "('Error: ', 0.03, 'Threshold: ', 0.93)\n",
      "('Error: ', 0.03, 'Threshold: ', 0.94)\n",
      "('Error: ', 0.03, 'Threshold: ', 0.95)\n",
      "('Error: ', 0.03, 'Threshold: ', 0.96)\n",
      "('Error: ', 0.03, 'Threshold: ', 0.97)\n",
      "('Error: ', 0.03, 'Threshold: ', 0.98)\n",
      "('Error: ', 0.03, 'Threshold: ', 0.99)\n",
      "('Checking for error = ', 0.04)\n",
      "('Error: ', 0.04, 'Threshold: ', 0.0)\n",
      "('Error: ', 0.04, 'Threshold: ', 0.01)\n",
      "('Error: ', 0.04, 'Threshold: ', 0.02)\n",
      "('Error: ', 0.04, 'Threshold: ', 0.03)\n",
      "('Error: ', 0.04, 'Threshold: ', 0.04)\n",
      "('Error: ', 0.04, 'Threshold: ', 0.05)\n",
      "('Error: ', 0.04, 'Threshold: ', 0.06)\n",
      "('Error: ', 0.04, 'Threshold: ', 0.07)\n",
      "('Error: ', 0.04, 'Threshold: ', 0.08)\n",
      "('Error: ', 0.04, 'Threshold: ', 0.09)\n",
      "('Error: ', 0.04, 'Threshold: ', 0.1)\n",
      "('Error: ', 0.04, 'Threshold: ', 0.11)\n",
      "('Error: ', 0.04, 'Threshold: ', 0.12)\n",
      "('Error: ', 0.04, 'Threshold: ', 0.13)\n",
      "('Error: ', 0.04, 'Threshold: ', 0.14)\n",
      "('Error: ', 0.04, 'Threshold: ', 0.15)\n",
      "('Error: ', 0.04, 'Threshold: ', 0.16)\n",
      "('Error: ', 0.04, 'Threshold: ', 0.17)\n",
      "('Error: ', 0.04, 'Threshold: ', 0.18)\n",
      "('Error: ', 0.04, 'Threshold: ', 0.19)\n",
      "('Error: ', 0.04, 'Threshold: ', 0.2)\n",
      "('Error: ', 0.04, 'Threshold: ', 0.21)\n",
      "('Error: ', 0.04, 'Threshold: ', 0.22)\n",
      "('Error: ', 0.04, 'Threshold: ', 0.23)\n",
      "('Error: ', 0.04, 'Threshold: ', 0.24)\n",
      "('Error: ', 0.04, 'Threshold: ', 0.25)\n",
      "('Error: ', 0.04, 'Threshold: ', 0.26)\n",
      "('Error: ', 0.04, 'Threshold: ', 0.27)\n",
      "('Error: ', 0.04, 'Threshold: ', 0.28)\n",
      "('Error: ', 0.04, 'Threshold: ', 0.29)\n",
      "('Error: ', 0.04, 'Threshold: ', 0.3)\n",
      "('Error: ', 0.04, 'Threshold: ', 0.31)\n",
      "('Error: ', 0.04, 'Threshold: ', 0.32)\n",
      "('Error: ', 0.04, 'Threshold: ', 0.33)\n",
      "('Error: ', 0.04, 'Threshold: ', 0.34)\n",
      "('Error: ', 0.04, 'Threshold: ', 0.35)\n",
      "('Error: ', 0.04, 'Threshold: ', 0.36)\n",
      "('Error: ', 0.04, 'Threshold: ', 0.37)\n",
      "('Error: ', 0.04, 'Threshold: ', 0.38)\n",
      "('Error: ', 0.04, 'Threshold: ', 0.39)\n",
      "('Error: ', 0.04, 'Threshold: ', 0.4)\n",
      "('Error: ', 0.04, 'Threshold: ', 0.41)\n",
      "('Error: ', 0.04, 'Threshold: ', 0.42)\n",
      "('Error: ', 0.04, 'Threshold: ', 0.43)\n",
      "('Error: ', 0.04, 'Threshold: ', 0.44)\n",
      "('Error: ', 0.04, 'Threshold: ', 0.45)\n",
      "('Error: ', 0.04, 'Threshold: ', 0.46)\n",
      "('Error: ', 0.04, 'Threshold: ', 0.47)\n",
      "('Error: ', 0.04, 'Threshold: ', 0.48)\n",
      "('Error: ', 0.04, 'Threshold: ', 0.49)\n",
      "('Error: ', 0.04, 'Threshold: ', 0.5)\n",
      "('Error: ', 0.04, 'Threshold: ', 0.51)\n",
      "('Error: ', 0.04, 'Threshold: ', 0.52)\n",
      "('Error: ', 0.04, 'Threshold: ', 0.53)\n",
      "('Error: ', 0.04, 'Threshold: ', 0.54)\n",
      "('Error: ', 0.04, 'Threshold: ', 0.55)\n",
      "('Error: ', 0.04, 'Threshold: ', 0.56)\n",
      "('Error: ', 0.04, 'Threshold: ', 0.57)\n",
      "('Error: ', 0.04, 'Threshold: ', 0.58)\n",
      "('Error: ', 0.04, 'Threshold: ', 0.59)\n",
      "('Error: ', 0.04, 'Threshold: ', 0.6)\n",
      "('Error: ', 0.04, 'Threshold: ', 0.61)\n",
      "('Error: ', 0.04, 'Threshold: ', 0.62)\n",
      "('Error: ', 0.04, 'Threshold: ', 0.63)\n",
      "('Error: ', 0.04, 'Threshold: ', 0.64)\n",
      "('Error: ', 0.04, 'Threshold: ', 0.65)\n",
      "('Error: ', 0.04, 'Threshold: ', 0.66)\n",
      "('Error: ', 0.04, 'Threshold: ', 0.67)\n",
      "('Error: ', 0.04, 'Threshold: ', 0.68)\n",
      "('Error: ', 0.04, 'Threshold: ', 0.69)\n",
      "('Error: ', 0.04, 'Threshold: ', 0.7)\n",
      "('Error: ', 0.04, 'Threshold: ', 0.71)\n",
      "('Error: ', 0.04, 'Threshold: ', 0.72)\n",
      "('Error: ', 0.04, 'Threshold: ', 0.73)\n",
      "('Error: ', 0.04, 'Threshold: ', 0.74)\n",
      "('Error: ', 0.04, 'Threshold: ', 0.75)\n",
      "('Error: ', 0.04, 'Threshold: ', 0.76)\n",
      "('Error: ', 0.04, 'Threshold: ', 0.77)\n",
      "('Error: ', 0.04, 'Threshold: ', 0.78)\n",
      "('Error: ', 0.04, 'Threshold: ', 0.79)\n",
      "('Error: ', 0.04, 'Threshold: ', 0.8)\n",
      "('Error: ', 0.04, 'Threshold: ', 0.81)\n",
      "('Error: ', 0.04, 'Threshold: ', 0.82)\n",
      "('Error: ', 0.04, 'Threshold: ', 0.83)\n",
      "('Error: ', 0.04, 'Threshold: ', 0.84)\n",
      "('Error: ', 0.04, 'Threshold: ', 0.85)\n",
      "('Error: ', 0.04, 'Threshold: ', 0.86)\n",
      "('Error: ', 0.04, 'Threshold: ', 0.87)\n",
      "('Error: ', 0.04, 'Threshold: ', 0.88)\n",
      "('Error: ', 0.04, 'Threshold: ', 0.89)\n",
      "('Error: ', 0.04, 'Threshold: ', 0.9)\n",
      "('Error: ', 0.04, 'Threshold: ', 0.91)\n",
      "('Error: ', 0.04, 'Threshold: ', 0.92)\n",
      "('Error: ', 0.04, 'Threshold: ', 0.93)\n",
      "('Error: ', 0.04, 'Threshold: ', 0.94)\n",
      "('Error: ', 0.04, 'Threshold: ', 0.95)\n",
      "('Error: ', 0.04, 'Threshold: ', 0.96)\n",
      "('Error: ', 0.04, 'Threshold: ', 0.97)\n",
      "('Error: ', 0.04, 'Threshold: ', 0.98)\n",
      "('Error: ', 0.04, 'Threshold: ', 0.99)\n"
     ]
    }
   ],
   "source": [
    "detection_thresh_arr_err = np.arange(0, 100, 1.0)/100\n",
    "precision_err = np.zeros((4, 100))\n",
    "recall_err = np.zeros((4, 100))\n",
    "#print(precision_err)\n",
    "\n",
    "for error_slot in range(0, 4):\n",
    "    err = error_slot*0.01 + 0.01\n",
    "    print(\"Checking for error = \", err)\n",
    "    for slot, detection_thresh in enumerate(detection_thresh_arr_err):\n",
    "        print(\"Error: \", err, \"Threshold: \", detection_thresh)\n",
    "        det_time, det_prob  = main.run_model(det, audio, file_dur, samp_rate,\n",
    "                                    detection_thresh, do_time_expansion)\n",
    "\n",
    "        precision_err[error_slot][slot], recall_err[error_slot][slot] = prec_rec(start_times, det_time, err)"
   ]
  },
  {
   "cell_type": "code",
   "execution_count": 27,
   "metadata": {},
   "outputs": [
    {
     "data": {
      "image/png": "[encoded data removed]",
      "text/plain": [
       "<Figure size 432x288 with 1 Axes>"
      ]
     },
     "metadata": {
      "needs_background": "light"
     },
     "output_type": "display_data"
    },
    {
     "data": {
      "image/png": "[encoded data removed]",
      "text/plain": [
       "<Figure size 432x288 with 1 Axes>"
      ]
     },
     "metadata": {
      "needs_background": "light"
     },
     "output_type": "display_data"
    },
    {
     "data": {
      "image/png": "[encoded data removed]",
      "text/plain": [
       "<Figure size 432x288 with 1 Axes>"
      ]
     },
     "metadata": {
      "needs_background": "light"
     },
     "output_type": "display_data"
    },
    {
     "data": {
      "image/png": "[encoded data removed]",
      "text/plain": [
       "<Figure size 432x288 with 1 Axes>"
      ]
     },
     "metadata": {
      "needs_background": "light"
     },
     "output_type": "display_data"
    }
   ],
   "source": [
    "for error_slot in range(0, 4):\n",
    "    fig, ax = plt.subplots()\n",
    "    ax.plot(recall_err[error_slot], precision_err[error_slot])\n",
    "\n",
    "    #add axis labels to plot\n",
    "    ax.set_title('Precision-Recall Curve with '+str(0.01*error_slot +0.01)+'s error')\n",
    "    ax.set_ylabel('Precision')\n",
    "    ax.set_xlabel('Recall')\n",
    "\n",
    "    #display plot\n",
    "    plt.show()"
   ]
  },
  {
   "cell_type": "code",
   "execution_count": 52,
   "metadata": {},
   "outputs": [
    {
     "data": {
      "image/png": "[encoded data removed]",
      "text/plain": [
       "<Figure size 576x576 with 1 Axes>"
      ]
     },
     "metadata": {
      "needs_background": "light"
     },
     "output_type": "display_data"
    }
   ],
   "source": [
    "fig, ax = plt.subplots()\n",
    "ax.plot(recall, precision, color='purple')\n",
    "\n",
    "fig.set_figheight(8)\n",
    "fig.set_figwidth(8)\n",
    "\n",
    "#add axis labels to plot\n",
    "ax.set_title('Precision-Recall Curve')\n",
    "ax.set_ylabel('Precision')\n",
    "ax.set_xlabel('Recall')\n",
    "\n",
    "#display plot\n",
    "plt.show()"
   ]
  },
  {
   "cell_type": "code",
   "execution_count": 33,
   "metadata": {},
   "outputs": [
    {
     "name": "stdout",
     "output_type": "stream",
     "text": [
      "(80, 0.9095744680851063, 0.9095744680851063)\n"
     ]
    }
   ],
   "source": [
    "for i in range(len(precision)):\n",
    "    if(recall[i]==precision[i]):\n",
    "        print(i, recall[i], precision[i])"
   ]
  },
  {
   "cell_type": "code",
   "execution_count": 50,
   "metadata": {},
   "outputs": [
    {
     "name": "stdout",
     "output_type": "stream",
     "text": [
      "(0.01, 80, 'R:', 0.5957446808510638, 'P:', 0.5989304812834224)\n",
      "(0.02, 80, 'R:', 0.7393617021276596, 'P:', 0.7433155080213903)\n",
      "(0.03, 80, 'R:', 0.8404255319148937, 'P:', 0.8404255319148937)\n",
      "(0.04, 80, 'R:', 0.8936170212765957, 'P:', 0.8936170212765957)\n"
     ]
    }
   ],
   "source": [
    "for row in range(0,4):\n",
    "    for i in range(len(precision_err[row])):\n",
    "        if(recall_err[row][i]>=precision_err[row][i]-0.00396 and recall_err[row][i]<=precision_err[row][i]+0.00396):\n",
    "            print(0.01+(row*0.01), i, \"R:\", recall_err[row][i], \"P:\", precision_err[row][i])"
   ]
  },
  {
   "cell_type": "code",
   "execution_count": null,
   "metadata": {},
   "outputs": [],
   "source": []
  }
 ],
 "metadata": {
  "kernelspec": {
   "display_name": "Python 2",
   "language": "python",
   "name": "python2"
  },
  "language_info": {
   "codemirror_mode": {
    "name": "ipython",
    "version": 2
   },
   "file_extension": ".py",
   "mimetype": "text/x-python",
   "name": "python",
   "nbconvert_exporter": "python",
   "pygments_lexer": "ipython2",
   "version": "2.7.18"
  }
 },
 "nbformat": 4,
 "nbformat_minor": 2
}
